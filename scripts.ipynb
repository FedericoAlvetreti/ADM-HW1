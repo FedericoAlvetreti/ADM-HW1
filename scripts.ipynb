{
 "cells": [
  {
   "cell_type": "markdown",
   "id": "43999431",
   "metadata": {},
   "source": [
    "#### Say \"Hello, World!\" With Python"
   ]
  },
  {
   "cell_type": "code",
   "execution_count": null,
   "id": "8844c0c0",
   "metadata": {},
   "outputs": [],
   "source": [
    "print(\"Hello, World!\");\n"
   ]
  },
  {
   "cell_type": "markdown",
   "id": "879a961d",
   "metadata": {},
   "source": [
    "#### Python If-Else"
   ]
  },
  {
   "cell_type": "code",
   "execution_count": null,
   "id": "20dc89a2",
   "metadata": {},
   "outputs": [],
   "source": [
    "n=int(input())\n",
    "if (n%2==1):\n",
    "    print(\"Weird\")\n",
    "elif n<=5 and n>=2:\n",
    "        print(\"Not Weird\")\n",
    "elif n>=6 and n<=20:\n",
    "    print(\"Weird\")\n",
    "elif n>20:\n",
    "    print(\"Not Weird\")\n",
    "    \n"
   ]
  },
  {
   "cell_type": "markdown",
   "id": "6a02d48b",
   "metadata": {},
   "source": [
    "#### Arithmetic Operators"
   ]
  },
  {
   "cell_type": "code",
   "execution_count": null,
   "id": "9904497a",
   "metadata": {},
   "outputs": [],
   "source": [
    "if __name__ == '__main__':\n",
    "    a = int(input())\n",
    "    b = int(input())\n",
    "    print(a+b,a-b,a*b,sep=\"\\n\")\n"
   ]
  },
  {
   "cell_type": "markdown",
   "id": "1bccf8c5",
   "metadata": {},
   "source": [
    "#### Python: Division"
   ]
  },
  {
   "cell_type": "code",
   "execution_count": null,
   "id": "0ff1ef0d",
   "metadata": {},
   "outputs": [],
   "source": [
    "if __name__ == '__main__':\n",
    "    a = int(input())\n",
    "    b = int(input())\n",
    "    print(a//b, a/b,sep=\"\\n\")\n"
   ]
  },
  {
   "cell_type": "markdown",
   "id": "c0f39397",
   "metadata": {},
   "source": [
    "#### Loops"
   ]
  },
  {
   "cell_type": "code",
   "execution_count": null,
   "id": "c38c1db3",
   "metadata": {},
   "outputs": [],
   "source": [
    "if __name__ == '__main__':\n",
    "    n = int(input())\n",
    "    for i in range(0,n):\n",
    "        print(i**2)\n"
   ]
  },
  {
   "cell_type": "markdown",
   "id": "6df939e8",
   "metadata": {},
   "source": [
    "#### Write a function"
   ]
  },
  {
   "cell_type": "code",
   "execution_count": null,
   "id": "b4f06fcf",
   "metadata": {},
   "outputs": [],
   "source": [
    "def is_leap(year):\n",
    "    if year%4==0:\n",
    "        if year%100==0:\n",
    "            if year%400==0:\n",
    "                return(True)\n",
    "            return(False)\n",
    "        return(True)\n",
    "    return(False)\n",
    "\n"
   ]
  },
  {
   "cell_type": "markdown",
   "id": "7efb3a22",
   "metadata": {},
   "source": [
    "#### Print Function"
   ]
  },
  {
   "cell_type": "code",
   "execution_count": null,
   "id": "50cda9e7",
   "metadata": {},
   "outputs": [],
   "source": [
    "if __name__ == '__main__':\n",
    "    n = int(input())\n",
    "    for i in range(1,n+1):\n",
    "        print(i,end=\"\")\n"
   ]
  },
  {
   "cell_type": "markdown",
   "id": "29140653",
   "metadata": {},
   "source": [
    "#### List Comprehensions"
   ]
  },
  {
   "cell_type": "code",
   "execution_count": null,
   "id": "9eaa354d",
   "metadata": {},
   "outputs": [],
   "source": [
    "if __name__ == '__main__':\n",
    "    x = int(input())\n",
    "    y = int(input())\n",
    "    z = int(input())\n",
    "    n = int(input())\n",
    "    a=[]\n",
    "    for i in range(0,x+1):\n",
    "        for j in range(0,y+1):\n",
    "            for k in range(0,z+1):\n",
    "                a+=[[i,j,k]]\n",
    "    b=[t for t in a if (t[0]+t[1]+t[2])!=n]\n",
    "    print(b)\n",
    "   \n"
   ]
  },
  {
   "cell_type": "markdown",
   "id": "2db17820",
   "metadata": {},
   "source": [
    "#### Find the Runner-Up Score!  "
   ]
  },
  {
   "cell_type": "code",
   "execution_count": null,
   "id": "9556e590",
   "metadata": {},
   "outputs": [],
   "source": [
    "if __name__ == '__main__':\n",
    "    n = int(input())\n",
    "    arr = map(int, input().split())\n",
    "    arr=list(arr)\n",
    "    arr.sort(reverse=True)\n",
    "    for i in arr:\n",
    "        if i!=arr[0]:\n",
    "            print(i)\n",
    "            break\n",
    "    \n"
   ]
  },
  {
   "cell_type": "markdown",
   "id": "1413b880",
   "metadata": {},
   "source": [
    "#### Nested Lists"
   ]
  },
  {
   "cell_type": "code",
   "execution_count": null,
   "id": "a0b2b9dd",
   "metadata": {},
   "outputs": [],
   "source": [
    "if __name__ == '__main__':\n",
    "    a={}\n",
    "    k=0\n",
    "    nomi=[]\n",
    "    for _ in range(int(input())):\n",
    "        name = input()\n",
    "        score = float(input())\n",
    "        a[name]=score\n",
    "    valori=list(a.values())\n",
    "    valori.sort()\n",
    "    for i in valori:\n",
    "        if i!=valori[0]:\n",
    "            k=i\n",
    "            break\n",
    "    for i in list(a.keys()):\n",
    "        if a[i]==k:\n",
    "            nomi+=[i]\n",
    "    nomi.sort()\n",
    "    for i in nomi:\n",
    "        print(i,end=\"\\n\")\n",
    "   \n"
   ]
  },
  {
   "cell_type": "markdown",
   "id": "3535a3e3",
   "metadata": {},
   "source": [
    "#### Finding the percentage"
   ]
  },
  {
   "cell_type": "code",
   "execution_count": null,
   "id": "0014aa63",
   "metadata": {},
   "outputs": [],
   "source": [
    "if __name__ == '__main__':\n",
    "    n = int(input())\n",
    "    student_marks = {}\n",
    "    media=0\n",
    "    for _ in range(n):\n",
    "        name, *line = input().split()\n",
    "        scores = list(map(float, line))\n",
    "        student_marks[name] = scores\n",
    "    query_name = input()\n",
    "    for i in student_marks[query_name]:\n",
    "        media+=i\n",
    "    print(format(media/3,\".2f\"))\n"
   ]
  },
  {
   "cell_type": "markdown",
   "id": "9ee5e3af",
   "metadata": {},
   "source": [
    "#### Lists"
   ]
  },
  {
   "cell_type": "code",
   "execution_count": null,
   "id": "42bfcb1c",
   "metadata": {},
   "outputs": [],
   "source": [
    "if __name__ == '__main__':\n",
    "    N = int(input())\n",
    "    Comando=\"\"\n",
    "    x=[]\n",
    "    for i in range(0,N):\n",
    "        Comando=input()\n",
    "        y=Comando.split(\" \")\n",
    "        \n",
    "        if y[0]==\"insert\":\n",
    "            x.insert(int(y[1]),int(y[2]))\n",
    "        elif y[0]==\"print\":\n",
    "            print(x)\n",
    "        elif y[0]==\"remove\":\n",
    "            x.remove(int(y[1]))\n",
    "        elif y[0]==\"append\":\n",
    "            x.append(int(y[1]))\n",
    "        elif y[0]==\"sort\":\n",
    "            x.sort()\n",
    "        elif y[0]==\"pop\":\n",
    "            x.pop()\n",
    "        elif y[0]==\"reverse\":\n",
    "            x.reverse()\n",
    "    \n"
   ]
  },
  {
   "cell_type": "markdown",
   "id": "ab0e6025",
   "metadata": {},
   "source": [
    "#### Tuples "
   ]
  },
  {
   "cell_type": "code",
   "execution_count": null,
   "id": "806ce08b",
   "metadata": {},
   "outputs": [],
   "source": [
    "if __name__ == '__main__':\n",
    "    n = int(input())\n",
    "    integer_list = map(int, input().split())\n",
    "    x=()\n",
    "    x=tuple(integer_list)\n",
    "    print(hash(x))\n"
   ]
  },
  {
   "cell_type": "markdown",
   "id": "23fc13ce",
   "metadata": {},
   "source": [
    "#### sWAP cASE"
   ]
  },
  {
   "cell_type": "code",
   "execution_count": null,
   "id": "45150153",
   "metadata": {},
   "outputs": [],
   "source": [
    "def swap_case(s):\n",
    "    S=\"\"\n",
    "    for i in s:\n",
    "        if i.isupper():\n",
    "            S+=i.lower()\n",
    "        else:\n",
    "            S+=i.upper()\n",
    "    return(S)\n",
    "\n"
   ]
  },
  {
   "cell_type": "markdown",
   "id": "b23a651d",
   "metadata": {},
   "source": [
    "#### sWAP cASE"
   ]
  },
  {
   "cell_type": "code",
   "execution_count": null,
   "id": "156f8408",
   "metadata": {},
   "outputs": [],
   "source": [
    "def swap_case(s):\n",
    "    S=\"\"\n",
    "    for i in s:\n",
    "        if i.isupper():\n",
    "            S+=i.lower()\n",
    "        else:\n",
    "            S+=i.upper()\n",
    "    return(S)\n",
    "\n"
   ]
  },
  {
   "cell_type": "markdown",
   "id": "045b4600",
   "metadata": {},
   "source": [
    "#### String Split and Join"
   ]
  },
  {
   "cell_type": "code",
   "execution_count": null,
   "id": "942c7c77",
   "metadata": {},
   "outputs": [],
   "source": [
    "\n",
    "\n",
    "def split_and_join(line):\n",
    "    line=line.split(\" \")\n",
    "    line=\"-\".join(line)\n",
    "    return(line)\n",
    "\n",
    "if __name__ == '__main__':\n",
    "    line = input()\n",
    "    result = split_and_join(line)\n",
    "    print(result)\n"
   ]
  },
  {
   "cell_type": "markdown",
   "id": "ab415525",
   "metadata": {},
   "source": [
    "#### What's Your Name?"
   ]
  },
  {
   "cell_type": "code",
   "execution_count": null,
   "id": "19c5dbb3",
   "metadata": {},
   "outputs": [],
   "source": [
    "#\n",
    "# Complete the 'print_full_name' function below.\n",
    "#\n",
    "# The function is expected to return a STRING.\n",
    "# The function accepts following parameters:\n",
    "#  1. STRING first\n",
    "#  2. STRING last\n",
    "#\n",
    "\n",
    "def print_full_name(first, last):\n",
    "    print(\"Hello \"+first+\" \"+last+\"! You just delved into python.\")\n",
    "\n"
   ]
  },
  {
   "cell_type": "markdown",
   "id": "84b70c19",
   "metadata": {},
   "source": [
    "#### What's Your Name?"
   ]
  },
  {
   "cell_type": "code",
   "execution_count": null,
   "id": "d455e2a6",
   "metadata": {},
   "outputs": [],
   "source": [
    "#\n",
    "# Complete the 'print_full_name' function below.\n",
    "#\n",
    "# The function is expected to return a STRING.\n",
    "# The function accepts following parameters:\n",
    "#  1. STRING first\n",
    "#  2. STRING last\n",
    "#\n",
    "\n",
    "def print_full_name(first, last):\n",
    "    print(\"Hello \"+first+\" \"+last+\"! You just delved into python.\")\n",
    "\n"
   ]
  },
  {
   "cell_type": "markdown",
   "id": "89d53b2d",
   "metadata": {},
   "source": [
    "#### Mutations"
   ]
  },
  {
   "cell_type": "code",
   "execution_count": null,
   "id": "fc0d0342",
   "metadata": {},
   "outputs": [],
   "source": [
    "def mutate_string(string, position, character):\n",
    "    string=list(string)\n",
    "    string[int(position)]=character\n",
    "    string=\"\".join(string)\n",
    "    return(string)\n",
    "\n"
   ]
  },
  {
   "cell_type": "markdown",
   "id": "5efe3caf",
   "metadata": {},
   "source": [
    "#### Find a string"
   ]
  },
  {
   "cell_type": "code",
   "execution_count": null,
   "id": "2fa03c9c",
   "metadata": {},
   "outputs": [],
   "source": [
    "def count_substring(string, sub_string):\n",
    "    k=0\n",
    "    for i in range(0,len(string)-len(sub_string)+1):\n",
    "        if string[i:i+len(sub_string)]==sub_string:\n",
    "            k+=1\n",
    "    return(k)\n",
    "\n"
   ]
  },
  {
   "cell_type": "markdown",
   "id": "d47f0a4a",
   "metadata": {},
   "source": [
    "#### String Validators"
   ]
  },
  {
   "cell_type": "code",
   "execution_count": null,
   "id": "06d9b8ee",
   "metadata": {},
   "outputs": [],
   "source": [
    "if __name__ == '__main__':\n",
    "    s = input()\n",
    "    a=False\n",
    "    b=False\n",
    "    c=False\n",
    "    d=False\n",
    "    e=False\n",
    "    for i in s:\n",
    "        if i.isalnum()==True and a==False:\n",
    "            a=True\n",
    "        if i.isalpha()==True and b==False:\n",
    "            b=True\n",
    "        if i.isdigit()==True and c==False:\n",
    "            c=True\n",
    "        if i.islower()==True and d==False:\n",
    "            d=True\n",
    "        if i.isupper()==True and e==False:\n",
    "            e=True\n",
    "    print(a,b,c,d,e,sep=\"\\n\")\n"
   ]
  },
  {
   "cell_type": "markdown",
   "id": "838edaa8",
   "metadata": {},
   "source": [
    "#### Text Wrap"
   ]
  },
  {
   "cell_type": "code",
   "execution_count": null,
   "id": "fc3e3e57",
   "metadata": {},
   "outputs": [],
   "source": [
    "\n",
    "def wrap(string, max_width):\n",
    "    for i in range(0,len(string)//(max_width)):\n",
    "        j=i*max_width\n",
    "        print(string[j:j+max_width])\n",
    "    return(string[j+max_width:])\n",
    "\n"
   ]
  },
  {
   "cell_type": "markdown",
   "id": "67e6d76f",
   "metadata": {},
   "source": [
    "#### Designer Door Mat"
   ]
  },
  {
   "cell_type": "code",
   "execution_count": null,
   "id": "93ada95d",
   "metadata": {},
   "outputs": [],
   "source": [
    "A=list(map(int,input().split(\" \")))\n",
    "for j in range((A[0]+1)//2 -1,0,-1):\n",
    "    print(3*j*\"-\"+\".\"+\"|\"+(A[0]-1-2*j)*\"..|\"+\".\"+3*j*\"-\")\n",
    "print(((((A[0]-3)//2)*3)+1)*\"-\"+\"WELCOME\"+((((A[0]-3)//2)*3)+1)*\"-\")\n",
    "for i in range(1,(A[0]+1)//2):\n",
    "    print(3*i*\"-\"+\".\"+\"|\"+(A[0]-1-2*i)*\"..|\"+\".\"+3*i*\"-\")\n"
   ]
  },
  {
   "cell_type": "markdown",
   "id": "c5621cc5",
   "metadata": {},
   "source": [
    "#### String Formatting"
   ]
  },
  {
   "cell_type": "code",
   "execution_count": null,
   "id": "59730ca3",
   "metadata": {},
   "outputs": [],
   "source": [
    "def print_formatted(number):\n",
    "    L=len(bin(number))-2\n",
    "    for i in range(1,number+1):\n",
    "        l=len(bin(i))-2\n",
    "        print((L-len(str(i)))*\" \",i,(L+3-len(oct(i)))*\" \",oct(i)[2:],(L+3-len(hex(i)))*\" \",hex(i)[2:].upper(),sep=\"\",end=(L-l+1)*\" \")\n",
    "        print(bin(i)[2:],end=\"\\n\")\n",
    "\n"
   ]
  },
  {
   "cell_type": "markdown",
   "id": "8fe0cbf5",
   "metadata": {},
   "source": [
    "#### Alphabet Rangoli"
   ]
  },
  {
   "cell_type": "code",
   "execution_count": null,
   "id": "856c57b4",
   "metadata": {},
   "outputs": [],
   "source": [
    "az=list(map(chr,range(97,123)))\n",
    "def print_rangoli(size):\n",
    "    for i in range(1,2*size):\n",
    "        v=[]\n",
    "        j=abs(i-size)\n",
    "        print(j*\"--\",end=\"\")\n",
    "        for k in range(size-1,j-1,-1):\n",
    "            v+=[az[k]]\n",
    "        for t in range(j+1,size):\n",
    "            v+=[az[t]]\n",
    "        print(v[0],end=\"\")\n",
    "        for q in range(1,len(v)):\n",
    "            print(\"-\",v[q],sep=\"\",end=\"\")\n",
    "        print(j*\"--\")\n"
   ]
  },
  {
   "cell_type": "markdown",
   "id": "686115d6",
   "metadata": {},
   "source": [
    "#### Capitalize!"
   ]
  },
  {
   "cell_type": "code",
   "execution_count": null,
   "id": "83834995",
   "metadata": {},
   "outputs": [],
   "source": [
    "\n",
    "\n",
    "# Complete the solve function below.\n",
    "def solve(s):\n",
    "    s=list(s)\n",
    "    if s[0]!=\" \":\n",
    "        s[0]=s[0].upper()\n",
    "    for i in range(0,len(s)):\n",
    "        if s[i-1]==\" \" and s[i]!=\" \":\n",
    "            s[i]=s[i].upper()\n",
    "    s=\"\".join(s)\n",
    "    return(s)\n"
   ]
  },
  {
   "cell_type": "markdown",
   "id": "5f4cd7ab",
   "metadata": {},
   "source": [
    "#### The Minion Game"
   ]
  },
  {
   "cell_type": "code",
   "execution_count": null,
   "id": "49a69571",
   "metadata": {},
   "outputs": [],
   "source": [
    "def minion_game(string):\n",
    "    vocali=[\"A\",\"E\",\"I\",\"O\",\"U\"]\n",
    "    Stuart=[]\n",
    "    Kevin=[]\n",
    "    Pk=0\n",
    "    Ps=0\n",
    "\n",
    "    for i in range(0,len(string)):\n",
    "        t=len(string)-i\n",
    "        if string[i] in vocali:\n",
    "            Pk+=t\n",
    "        else:\n",
    "            Ps+=t\n",
    "    \n",
    "    \n",
    "    \n",
    "    \n",
    "    \n",
    "\n",
    "    if Pk>Ps:\n",
    "        print(\"Kevin \"+str(Pk))\n",
    "    elif Pk==Ps:\n",
    "        print(\"Draw\")\n",
    "    else:\n",
    "        print(\"Stuart \"+str(Ps))\n"
   ]
  },
  {
   "cell_type": "markdown",
   "id": "1a6d3cb8",
   "metadata": {},
   "source": [
    "#### The Minion Game"
   ]
  },
  {
   "cell_type": "code",
   "execution_count": null,
   "id": "b9b678c1",
   "metadata": {},
   "outputs": [],
   "source": [
    "def minion_game(string):\n",
    "    vocali=[\"A\",\"E\",\"I\",\"O\",\"U\"]\n",
    "    Stuart=[]\n",
    "    Kevin=[]\n",
    "    Pk=0\n",
    "    Ps=0\n",
    "\n",
    "    for i in range(0,len(string)):\n",
    "        t=len(string)-i\n",
    "        if string[i] in vocali:\n",
    "            Pk+=t\n",
    "        else:\n",
    "            Ps+=t\n",
    "    if Pk>Ps:\n",
    "        print(\"Kevin \"+str(Pk))\n",
    "    elif Pk==Ps:\n",
    "        print(\"Draw\")\n",
    "    else:\n",
    "        print(\"Stuart \"+str(Ps))\n"
   ]
  },
  {
   "cell_type": "markdown",
   "id": "0f99653b",
   "metadata": {},
   "source": [
    "#### Merge the Tools!"
   ]
  },
  {
   "cell_type": "code",
   "execution_count": null,
   "id": "40edf5c2",
   "metadata": {},
   "outputs": [],
   "source": [
    "def norepeat(parola):\n",
    "    parola=list(parola)\n",
    "    new=[]\n",
    "    for i in parola:\n",
    "        if i not in new:\n",
    "            new+=[i]\n",
    "    new=\"\".join(new)\n",
    "    return(new)\n",
    "def merge_the_tools(string, k):\n",
    "    x=[]\n",
    "    for i in range(0,len(string),k):\n",
    "        x+=[string[i:i+k]]\n",
    "    #lista di sotto parole#\n",
    "    for i in range(0,len(x)):\n",
    "        print(norepeat(x[i]))\n",
    "\n",
    "            \n"
   ]
  },
  {
   "cell_type": "markdown",
   "id": "4e2b37a6",
   "metadata": {},
   "source": [
    "#### Text Alignment"
   ]
  },
  {
   "cell_type": "code",
   "execution_count": null,
   "id": "8776a546",
   "metadata": {},
   "outputs": [],
   "source": [
    "# Enter your code here. Read input from STDIN. Print output to STDOUT\n",
    "x=int(input())\n",
    "\n",
    "for i in range(x):\n",
    "     print((\"H\"*i).rjust(x-1)+\"H\"+(\"H\"*i).ljust(x))\n",
    "for i in range(x+1):\n",
    "    print((\"H\"*x).center(2*x)+(\" \"*x).center(2*x)+(\"H\"*x).center(2*x))\n",
    "for i in range((x+1)//2):\n",
    "    print((\"H\"*5*x).center(6*x))\n",
    "for i in range(x+1):\n",
    "    print((\"H\"*x).center(2*x)+(\" \"*x).center(2*x)+(\"H\"*x).center(2*x))\n",
    "for i in range(x-1,-1,-1):\n",
    "    print((\" \").center(4*x)+(\"H\"*i).rjust(x-1)+\"H\"+(\"H\"*i).ljust(x))\n",
    "    \n"
   ]
  },
  {
   "cell_type": "markdown",
   "id": "9678b41f",
   "metadata": {},
   "source": [
    "#### Introduction to Sets"
   ]
  },
  {
   "cell_type": "code",
   "execution_count": null,
   "id": "12b2762e",
   "metadata": {},
   "outputs": [],
   "source": [
    "def average(array):\n",
    "    a=set(array)\n",
    "    \n",
    "    return(sum(a)/len(a))\n",
    "\n"
   ]
  },
  {
   "cell_type": "markdown",
   "id": "1338553b",
   "metadata": {},
   "source": [
    "#### Symmetric Difference"
   ]
  },
  {
   "cell_type": "code",
   "execution_count": null,
   "id": "24ebab7c",
   "metadata": {},
   "outputs": [],
   "source": [
    "a=[]\n",
    "for i in range(4):\n",
    "    a+=[input()]\n",
    "b=set(a[1].split())\n",
    "c=set(a[3].split())\n",
    "d=b.intersection(c)\n",
    "b=b.difference(d)\n",
    "c=c.difference(d)\n",
    "d=list(map(int,b.union(c)))\n",
    "d.sort()\n",
    "for i in d:\n",
    "    print(i)\n"
   ]
  },
  {
   "cell_type": "markdown",
   "id": "d0b53781",
   "metadata": {},
   "source": [
    "#### Symmetric Difference"
   ]
  },
  {
   "cell_type": "code",
   "execution_count": null,
   "id": "3765410c",
   "metadata": {},
   "outputs": [],
   "source": [
    "a=[]\n",
    "for i in range(4):\n",
    "    a+=[input()]\n",
    "b=set(a[1].split())\n",
    "c=set(a[3].split())\n",
    "d=b.intersection(c)\n",
    "b=b.difference(d)\n",
    "c=c.difference(d)\n",
    "d=list(map(int,b.union(c)))\n",
    "d.sort()\n",
    "for i in d:\n",
    "    print(i)\n"
   ]
  },
  {
   "cell_type": "markdown",
   "id": "7e6404b7",
   "metadata": {},
   "source": [
    "#### No Idea!"
   ]
  },
  {
   "cell_type": "code",
   "execution_count": null,
   "id": "c62728aa",
   "metadata": {},
   "outputs": [],
   "source": [
    "def happiness(array,A,B):\n",
    "    h_level=0\n",
    "    for i in array:\n",
    "        if i in A:\n",
    "            h_level+=1\n",
    "        if i in B:\n",
    "            h_level-=1\n",
    "    return(h_level)\n",
    "\n",
    "nm=input()\n",
    "array=list(map(int,input().split()))\n",
    "A=set(map(int,input().split()))\n",
    "B=set(map(int,input().split()))\n",
    "print(happiness(array,A,B))\n"
   ]
  },
  {
   "cell_type": "markdown",
   "id": "7ed89141",
   "metadata": {},
   "source": [
    "#### Set .add() "
   ]
  },
  {
   "cell_type": "code",
   "execution_count": null,
   "id": "367d9050",
   "metadata": {},
   "outputs": [],
   "source": [
    "k=int(input())\n",
    "stamps=set()\n",
    "for i in range(k):\n",
    "    stamps.add(input())\n",
    "print(len(stamps))\n"
   ]
  },
  {
   "cell_type": "markdown",
   "id": "2bd09272",
   "metadata": {},
   "source": [
    "#### Set .add() "
   ]
  },
  {
   "cell_type": "code",
   "execution_count": null,
   "id": "b280c97e",
   "metadata": {},
   "outputs": [],
   "source": [
    "k=int(input())\n",
    "stamps=set()\n",
    "for i in range(k):\n",
    "    stamps.add(input())\n",
    "print(len(stamps))\n"
   ]
  },
  {
   "cell_type": "markdown",
   "id": "7faebf5c",
   "metadata": {},
   "source": [
    "#### Set .discard(), .remove() & .pop()"
   ]
  },
  {
   "cell_type": "code",
   "execution_count": null,
   "id": "a4b27c2a",
   "metadata": {},
   "outputs": [],
   "source": [
    "n = int(input())\n",
    "s = set(map(int, input().split()))\n",
    "N = int(input())\n",
    "for i in range(N):\n",
    "    k=input().split()\n",
    "    if k[0]==\"pop\":\n",
    "        s.pop()\n",
    "    elif k[0]==\"remove\":\n",
    "        s.remove(int(k[1]))\n",
    "    elif k[0]==\"discard\":\n",
    "        s.discard(int(k[1]))\n",
    "print(sum(s))\n"
   ]
  },
  {
   "cell_type": "markdown",
   "id": "cc34aca2",
   "metadata": {},
   "source": [
    "#### Set .union() Operation"
   ]
  },
  {
   "cell_type": "code",
   "execution_count": null,
   "id": "77395137",
   "metadata": {},
   "outputs": [],
   "source": [
    "n_eng=int(input())\n",
    "eng=set(map(int,input().split()))\n",
    "n_fra=int(input())\n",
    "fra=set(map(int,input().split()))\n",
    "\n",
    "tot_sub=fra.union(eng)\n",
    "\n",
    "print(len(tot_sub))\n"
   ]
  },
  {
   "cell_type": "markdown",
   "id": "e469ae7a",
   "metadata": {},
   "source": [
    "#### Set .intersection() Operation"
   ]
  },
  {
   "cell_type": "code",
   "execution_count": null,
   "id": "2e713d15",
   "metadata": {},
   "outputs": [],
   "source": [
    "n_eng=int(input())\n",
    "eng=set(map(int,input().split()))\n",
    "n_fra=int(input())\n",
    "fra=set(map(int,input().split()))\n",
    "\n",
    "both_sub=fra.intersection(eng)\n",
    "\n",
    "print(len(both_sub))\n"
   ]
  },
  {
   "cell_type": "markdown",
   "id": "6c54d8a0",
   "metadata": {},
   "source": [
    "#### Set .difference() Operation"
   ]
  },
  {
   "cell_type": "code",
   "execution_count": null,
   "id": "b2d099c0",
   "metadata": {},
   "outputs": [],
   "source": [
    "n_eng=int(input())\n",
    "eng=set(map(int,input().split()))\n",
    "n_fra=int(input())\n",
    "fra=set(map(int,input().split()))\n",
    "\n",
    "only_eng=eng.difference(fra)\n",
    "\n",
    "print(len(only_eng))\n"
   ]
  },
  {
   "cell_type": "markdown",
   "id": "50395320",
   "metadata": {},
   "source": [
    "#### Set .difference() Operation"
   ]
  },
  {
   "cell_type": "code",
   "execution_count": null,
   "id": "210c80c3",
   "metadata": {},
   "outputs": [],
   "source": [
    "n_eng=int(input())\n",
    "eng=set(map(int,input().split()))\n",
    "n_fra=int(input())\n",
    "fra=set(map(int,input().split()))\n",
    "\n",
    "only_eng=eng.difference(fra)\n",
    "\n",
    "print(len(only_eng))\n"
   ]
  },
  {
   "cell_type": "markdown",
   "id": "465e9fca",
   "metadata": {},
   "source": [
    "#### Set .symmetric_difference() Operation"
   ]
  },
  {
   "cell_type": "code",
   "execution_count": null,
   "id": "cbdbb58c",
   "metadata": {},
   "outputs": [],
   "source": [
    "n_eng=int(input())\n",
    "eng=set(map(int,input().split()))\n",
    "n_fra=int(input())\n",
    "fra=set(map(int,input().split()))\n",
    "\n",
    "not_both=fra.symmetric_difference(eng)\n",
    "\n",
    "print(len(not_both))\n"
   ]
  },
  {
   "cell_type": "markdown",
   "id": "0fde58ad",
   "metadata": {},
   "source": [
    "#### Set Mutations"
   ]
  },
  {
   "cell_type": "code",
   "execution_count": null,
   "id": "7ed5eda0",
   "metadata": {},
   "outputs": [],
   "source": [
    "n=int(input())\n",
    "mainset=set(map(int,input().split()))\n",
    "n_othersets=int(input())\n",
    "\n",
    "for i in range(n_othersets):\n",
    "    instruction=(input().split())[0]\n",
    "    otherset=set(map(int,input().split()))\n",
    "    \n",
    "    if instruction==\"intersection_update\":\n",
    "        mainset.intersection_update(otherset)\n",
    "    elif instruction==\"symmetric_difference_update\":\n",
    "        mainset.symmetric_difference_update(otherset)\n",
    "    elif instruction==\"difference_update\":\n",
    "        mainset.difference_update(otherset)\n",
    "    elif instruction==\"update\":\n",
    "        mainset.update(otherset)\n",
    "print(sum(mainset))\n"
   ]
  },
  {
   "cell_type": "markdown",
   "id": "1bcbe4db",
   "metadata": {},
   "source": [
    "#### Set Mutations"
   ]
  },
  {
   "cell_type": "code",
   "execution_count": null,
   "id": "e9e9607c",
   "metadata": {},
   "outputs": [],
   "source": [
    "n=int(input())\n",
    "mainset=set(map(int,input().split()))\n",
    "n_othersets=int(input())\n",
    "\n",
    "for i in range(n_othersets):\n",
    "    instruction=(input().split())[0]\n",
    "    otherset=set(map(int,input().split()))\n",
    "    \n",
    "    if instruction==\"intersection_update\":\n",
    "        mainset.intersection_update(otherset)\n",
    "    elif instruction==\"symmetric_difference_update\":\n",
    "        mainset.symmetric_difference_update(otherset)\n",
    "    elif instruction==\"difference_update\":\n",
    "        mainset.difference_update(otherset)\n",
    "    elif instruction==\"update\":\n",
    "        mainset.update(otherset)\n",
    "print(sum(mainset))\n"
   ]
  },
  {
   "cell_type": "markdown",
   "id": "0b026236",
   "metadata": {},
   "source": [
    "#### The Captain's Room "
   ]
  },
  {
   "cell_type": "code",
   "execution_count": null,
   "id": "5e7818cb",
   "metadata": {},
   "outputs": [],
   "source": [
    "groups_lenght=int(input())\n",
    "\n",
    "all_keys=list(map(int,input().split()))\n",
    "\n",
    "actual_keys=set(all_keys)\n",
    "\n",
    "cap_rep=len(all_keys)%groups_lenght\n",
    "\n",
    "for i in range(len(actual_keys)):\n",
    "    k=actual_keys.pop()\n",
    "    for j in range(cap_rep):\n",
    "        all_keys.remove(k)\n",
    "    if k not in all_keys:\n",
    "        print(k)\n",
    "        break\n"
   ]
  },
  {
   "cell_type": "markdown",
   "id": "ab92593c",
   "metadata": {},
   "source": [
    "#### The Captain's Room "
   ]
  },
  {
   "cell_type": "code",
   "execution_count": null,
   "id": "dd32b957",
   "metadata": {},
   "outputs": [],
   "source": [
    "groups_lenght=int(input())\n",
    "\n",
    "all_keys=list(map(int,input().split()))\n",
    "\n",
    "actual_keys=set(all_keys)\n",
    "\n",
    "cap_rep=len(all_keys)%groups_lenght\n",
    "\n",
    "for i in range(len(actual_keys)):\n",
    "    k=actual_keys.pop()\n",
    "    for j in range(cap_rep):\n",
    "        all_keys.remove(k)\n",
    "    if k not in all_keys:\n",
    "        print(k)\n",
    "        break\n"
   ]
  },
  {
   "cell_type": "markdown",
   "id": "b1b56c61",
   "metadata": {},
   "source": [
    "#### Check Subset"
   ]
  },
  {
   "cell_type": "code",
   "execution_count": null,
   "id": "24820ef5",
   "metadata": {},
   "outputs": [],
   "source": [
    "cases=int(input())\n",
    "\n",
    "for i in range(cases):\n",
    "    nA=int(input())\n",
    "    A=set(map(int,input().split()))\n",
    "    nB=int(input())\n",
    "    B=set(map(int,input().split()))\n",
    "    \n",
    "    \n",
    "    if B==(B.difference(A)).union(A):\n",
    "        print(True)\n",
    "    else:\n",
    "        print(False)\n"
   ]
  },
  {
   "cell_type": "markdown",
   "id": "05a9a5b4",
   "metadata": {},
   "source": [
    "#### Check Strict Superset"
   ]
  },
  {
   "cell_type": "code",
   "execution_count": null,
   "id": "005d2a62",
   "metadata": {},
   "outputs": [],
   "source": [
    "A=set(map(int,input().split()))\n",
    "n=int(input())\n",
    "boolean=True\n",
    "for i in range(n):\n",
    "    B=set(map(int,input().split()))\n",
    "    if A.difference(B)=={} or (A!=(A.difference(B).union(B))):\n",
    "        boolean=False\n",
    "        break\n",
    "print(boolean)\n"
   ]
  },
  {
   "cell_type": "markdown",
   "id": "befe41a3",
   "metadata": {},
   "source": [
    "#### Nested Lists"
   ]
  },
  {
   "cell_type": "code",
   "execution_count": null,
   "id": "cc12c657",
   "metadata": {},
   "outputs": [],
   "source": [
    "if __name__ == '__main__':\n",
    "    a={}\n",
    "    k=0\n",
    "    nomi=[]\n",
    "    for _ in range(int(input())):\n",
    "        name = input()\n",
    "        score = float(input())\n",
    "        a[name]=score\n",
    "    valori=list(a.values())\n",
    "    valori.sort()\n",
    "    for i in valori:\n",
    "        if i!=valori[0]:\n",
    "            k=i\n",
    "            break\n",
    "    for i in list(a.keys()):\n",
    "        if a[i]==k:\n",
    "            nomi+=[i]\n",
    "    nomi.sort()\n",
    "    for i in nomi:\n",
    "        print(i,end=\"\\n\")\n",
    "   \n",
    "\n"
   ]
  },
  {
   "cell_type": "markdown",
   "id": "94af70f5",
   "metadata": {},
   "source": [
    "#### collections.Counter()"
   ]
  },
  {
   "cell_type": "code",
   "execution_count": null,
   "id": "921e2fa0",
   "metadata": {},
   "outputs": [],
   "source": [
    "def gain(c_size,s_size):\n",
    "    money=0\n",
    "    for i in c_size:\n",
    "        if i[0] in s_size.keys():\n",
    "            if s_size[i[0]]!=0:\n",
    "                money+=i[1]\n",
    "                s_size[i[0]]-=1\n",
    "    return(money)\n",
    "\n",
    "\n",
    "\n",
    "\n",
    "from collections import Counter    \n",
    "\n",
    "\n",
    "n=int(input())\n",
    "c_size=[]\n",
    "s_size=Counter(list(map(int,input().split())))\n",
    "for i in range(int(input())):\n",
    "    k=list(map(int,input().split()))\n",
    "    c_size+=[k]\n",
    "print(gain(c_size,s_size))\n"
   ]
  },
  {
   "cell_type": "markdown",
   "id": "e706d283",
   "metadata": {},
   "source": [
    "#### DefaultDict Tutorial"
   ]
  },
  {
   "cell_type": "code",
   "execution_count": null,
   "id": "dd998de1",
   "metadata": {},
   "outputs": [],
   "source": [
    "from collections import defaultdict\n",
    "\n",
    "def list_position(list1):\n",
    "    dict1=defaultdict(list)\n",
    "    for i in range(len(list1)):\n",
    "        dict1[list1[i]].append(i+1)\n",
    "    return(dict1)\n",
    "\n",
    "    \n",
    "indexs=list(map(int,input().split()))\n",
    "groupA=[]\n",
    "groupB=[]\n",
    "for i in range(indexs[0]):\n",
    "    groupA+=[(input())]\n",
    "for i in range(indexs[1]): \n",
    "    groupB+=[(input())]\n",
    "\n",
    "\n",
    "for i in groupB:\n",
    "    if i in groupA:\n",
    "        k=((list_position(groupA))[i])\n",
    "        for j in k:\n",
    "            print(j,end=\" \")\n",
    "        print(\"\")\n",
    "        \n",
    "    else:\n",
    "        print(-1)\n",
    "\n",
    "\n"
   ]
  },
  {
   "cell_type": "markdown",
   "id": "c9175b80",
   "metadata": {},
   "source": [
    "#### Collections.namedtuple()"
   ]
  },
  {
   "cell_type": "code",
   "execution_count": null,
   "id": "25eb155f",
   "metadata": {},
   "outputs": [],
   "source": [
    "from collections import namedtuple\n",
    "n=int(input())\n",
    "colomn=input().split()\n",
    "k=colomn.index(\"MARKS\")\n",
    "media=0\n",
    "for i in range(n):\n",
    "    media+=int((list(input().split()))[k])\n",
    "print(media/n)\n"
   ]
  },
  {
   "cell_type": "markdown",
   "id": "aae42ecd",
   "metadata": {},
   "source": [
    "#### Collections.namedtuple()"
   ]
  },
  {
   "cell_type": "code",
   "execution_count": null,
   "id": "3ac51e8e",
   "metadata": {},
   "outputs": [],
   "source": [
    "n,colomn=int(input()),input().split()\n",
    "k=colomn.index(\"MARKS\")\n",
    "print((sum([int((list(input().split()))[k]) for i in range(n)]))/n)\n"
   ]
  },
  {
   "cell_type": "markdown",
   "id": "fbf1d0ef",
   "metadata": {},
   "source": [
    "#### Collections.namedtuple()"
   ]
  },
  {
   "cell_type": "code",
   "execution_count": null,
   "id": "e3790de2",
   "metadata": {},
   "outputs": [],
   "source": [
    "n,colomn=int(input()),input().split()\n",
    "k=colomn.index(\"MARKS\")\n",
    "print((sum([int((list(input().split()))[k]) for i in range(n)]))/n)\n"
   ]
  },
  {
   "cell_type": "markdown",
   "id": "aa5753ac",
   "metadata": {},
   "source": [
    "#### Collections.OrderedDict()"
   ]
  },
  {
   "cell_type": "code",
   "execution_count": null,
   "id": "db35d473",
   "metadata": {},
   "outputs": [],
   "source": [
    "n,items=int(input()),{}\n",
    "for i in range(n):\n",
    "    k=input()\n",
    "    for j in range(len(k)):\n",
    "        if k[j].isdecimal():\n",
    "            k=(k[:j].strip(),k[j:].strip())\n",
    "            break\n",
    "    if k[0] in items:\n",
    "        items[k[0]]+=int(k[1])\n",
    "    else:\n",
    "        items[k[0]]=int(k[1])\n",
    "for i in items:\n",
    "    print(i,items[i])   \n"
   ]
  },
  {
   "cell_type": "markdown",
   "id": "46145e7a",
   "metadata": {},
   "source": [
    "#### Word Order"
   ]
  },
  {
   "cell_type": "code",
   "execution_count": null,
   "id": "04f59211",
   "metadata": {},
   "outputs": [],
   "source": [
    "from collections import Counter\n",
    "\n",
    "n=int(input())\n",
    "word_list=[]\n",
    "for i in range(n):\n",
    "    word_list+=[input()]\n",
    "word_list=Counter(word_list)\n",
    "print(len(word_list))\n",
    "for i in word_list:\n",
    "    print(word_list[i],end=\" \")\n"
   ]
  },
  {
   "cell_type": "markdown",
   "id": "a250abd4",
   "metadata": {},
   "source": [
    "#### Collections.deque()"
   ]
  },
  {
   "cell_type": "code",
   "execution_count": null,
   "id": "271be33a",
   "metadata": {},
   "outputs": [],
   "source": [
    "from collections import deque\n",
    "\n",
    "n=int(input())\n",
    "result=deque()\n",
    "for i in range(n):\n",
    "    k=input().split()\n",
    "    if k[0]==\"append\":\n",
    "        result.append(int(k[1]))\n",
    "    elif k[0]==\"appendleft\":\n",
    "        result.appendleft(int(k[1]))\n",
    "    elif k[0]==\"pop\":\n",
    "        result.pop()\n",
    "    elif k[0]==\"popleft\":\n",
    "        result.popleft()\n",
    "for i in result:\n",
    "    print(i,end=\" \")\n"
   ]
  },
  {
   "cell_type": "markdown",
   "id": "0c680112",
   "metadata": {},
   "source": [
    "#### Company Logo"
   ]
  },
  {
   "cell_type": "code",
   "execution_count": null,
   "id": "29265bca",
   "metadata": {},
   "outputs": [],
   "source": [
    "#!/bin/python3\n",
    "\n",
    "import math\n",
    "import os\n",
    "import random\n",
    "import re\n",
    "import sys\n",
    "from collections import Counter\n",
    "\n",
    "if __name__ == '__main__':\n",
    "    s = input()\n",
    "    s=Counter(s)\n",
    "    lista=[]\n",
    "    for i in s:\n",
    "        lista+=[(i,s[i])]\n",
    "    lista=sorted(lista,key=lambda t:t[1], reverse=True)\n",
    "    for i in range(len(lista)):\n",
    "        listai=[]\n",
    "        for j in range(i,len(lista)):\n",
    "            if lista[i][1]==lista[j][1]:\n",
    "                listai+=[lista[j]]\n",
    "            elif lista[i][1]>lista[j][1]:\n",
    "                break\n",
    "        listai=sorted(listai,key=lambda t:t[0])\n",
    "        lista[i:j]=listai\n",
    "    for i in range(3):\n",
    "        print(lista[i][0],lista[i][1],sep=\" \")\n"
   ]
  },
  {
   "cell_type": "markdown",
   "id": "3270a570",
   "metadata": {},
   "source": [
    "#### Piling Up!"
   ]
  },
  {
   "cell_type": "code",
   "execution_count": null,
   "id": "5d4ae9e0",
   "metadata": {},
   "outputs": [],
   "source": [
    "from collections import deque\n",
    "\n",
    "\n",
    "\n",
    "def cubable(vet):\n",
    "    result=[]\n",
    "    vet=deque(vet)\n",
    "    for i in range(len(vet)):\n",
    "        if vet[0]>vet[-1]:\n",
    "            result+=[vet.popleft()]\n",
    "        else:\n",
    "            result+=[vet.pop()]\n",
    "    return(result==sorted(result,reverse=True))\n",
    "\n",
    "\n",
    "\n",
    "t=int(input())\n",
    "for i in range(t):\n",
    "    n=int(input())\n",
    "    vet=list(map(int,input().split()))\n",
    "    if cubable(vet)==True:\n",
    "        print(\"Yes\")\n",
    "    else:\n",
    "        print(\"No\")\n"
   ]
  },
  {
   "cell_type": "markdown",
   "id": "1731bddb",
   "metadata": {},
   "source": [
    "#### Calendar Module"
   ]
  },
  {
   "cell_type": "code",
   "execution_count": null,
   "id": "d6a74bdd",
   "metadata": {},
   "outputs": [],
   "source": [
    "import calendar\n",
    "\n",
    "week=[\"MONDAY\",\"TUESDAY\",\"WEDNESDAY\",\"THURSDAY\",\"FRIDAY\",\"SATURDAY\",\"SUNDAY\"]\n",
    "day=list(map(int,input().split()))\n",
    "print(week[(calendar.weekday(day[2],day[0],day[1]))])\n"
   ]
  },
  {
   "cell_type": "markdown",
   "id": "a661b0ef",
   "metadata": {},
   "source": [
    "#### Time Delta"
   ]
  },
  {
   "cell_type": "code",
   "execution_count": null,
   "id": "c0f66e63",
   "metadata": {},
   "outputs": [],
   "source": [
    "#!/bin/python3\n",
    "\n",
    "import math\n",
    "import os\n",
    "import random\n",
    "import re\n",
    "import sys\n",
    "from datetime import datetime as dt\n",
    "        \n",
    "    \n",
    "# Complete the time_delta function below.\n",
    "def time_delta(t1,t2):\n",
    "    fmt = \"%a %d %b %Y %H:%M:%S %z\"\n",
    "    t1_dt = dt.strptime(t1, fmt)\n",
    "    t2_dt = dt.strptime(t2, fmt)\n",
    "    \n",
    "    if (t1_dt.year + t2_dt.year) <= 6000:\n",
    "        return str(abs(int((t1_dt - t2_dt).total_seconds())))\n",
    "    \n",
    "    \n",
    "    \n",
    "\n",
    "if __name__ == '__main__':\n",
    "    fptr = open(os.environ['OUTPUT_PATH'], 'w')\n",
    "\n",
    "    t = int(input())\n",
    "\n",
    "    for t_itr in range(t):\n",
    "        t1= input()\n",
    "\n",
    "        t2 = input()\n",
    "\n",
    "        delta = str(time_delta(t1, t2))\n",
    "\n",
    "        fptr.write(delta + '\\n')\n",
    "\n",
    "    fptr.close()\n"
   ]
  },
  {
   "cell_type": "markdown",
   "id": "91511651",
   "metadata": {},
   "source": [
    "#### Time Delta"
   ]
  },
  {
   "cell_type": "code",
   "execution_count": null,
   "id": "63fca340",
   "metadata": {},
   "outputs": [],
   "source": [
    "#!/bin/python3\n",
    "\n",
    "import math\n",
    "import os\n",
    "import random\n",
    "import re\n",
    "import sys\n",
    "from datetime import datetime as dt\n",
    "        \n",
    "    \n",
    "# Complete the time_delta function below.\n",
    "def time_delta(t1,t2):\n",
    "    fmt = \"%a %d %b %Y %H:%M:%S %z\"\n",
    "    t1_dt = dt.strptime(t1, fmt)\n",
    "    t2_dt = dt.strptime(t2, fmt)\n",
    "    \n",
    "    if (t1_dt.year + t2_dt.year) <= 6000:\n",
    "        return str(abs(int((t1_dt - t2_dt).total_seconds())))\n",
    "    \n",
    "    \n",
    "    \n",
    "\n",
    "if __name__ == '__main__':\n",
    "    fptr = open(os.environ['OUTPUT_PATH'], 'w')\n",
    "\n",
    "    t = int(input())\n",
    "\n",
    "    for t_itr in range(t):\n",
    "        t1= input()\n",
    "\n",
    "        t2 = input()\n",
    "\n",
    "        delta = str(time_delta(t1, t2))\n",
    "\n",
    "        fptr.write(delta + '\\n')\n",
    "\n",
    "    fptr.close()\n"
   ]
  },
  {
   "cell_type": "markdown",
   "id": "13e725b2",
   "metadata": {},
   "source": [
    "#### Exceptions"
   ]
  },
  {
   "cell_type": "code",
   "execution_count": null,
   "id": "22629ec5",
   "metadata": {},
   "outputs": [],
   "source": [
    "n=int(input())\n",
    "for i in range(n):\n",
    "    k=input().split()\n",
    "    try:\n",
    "        print(int(k[0])//int(k[1]))\n",
    "        \n",
    "    except ZeroDivisionError as e:\n",
    "        print(\"Error Code:\",e)\n",
    "    except ValueError as e:\n",
    "        print(\"Error Code:\",e)\n"
   ]
  },
  {
   "cell_type": "markdown",
   "id": "a71f42e5",
   "metadata": {},
   "source": [
    "#### Zipped!"
   ]
  },
  {
   "cell_type": "code",
   "execution_count": null,
   "id": "16d16c17",
   "metadata": {},
   "outputs": [],
   "source": [
    "k=input().split()\n",
    "grades=[]\n",
    "for i in range(int(k[1])):\n",
    "    grades+=[list(map(float,input().split()))]\n",
    "grades=zip(*grades)\n",
    "for i in grades:\n",
    "    print(sum(i)/int(k[1]))\n"
   ]
  },
  {
   "cell_type": "markdown",
   "id": "00d8c1eb",
   "metadata": {},
   "source": [
    "#### Athlete Sort"
   ]
  },
  {
   "cell_type": "code",
   "execution_count": null,
   "id": "7c4e101e",
   "metadata": {},
   "outputs": [],
   "source": [
    "#!/bin/python3\n",
    "\n",
    "import math\n",
    "import os\n",
    "import random\n",
    "import re\n",
    "import sys\n",
    "\n",
    "\n",
    "\n",
    "if __name__ == '__main__':\n",
    "    nm = input().split()\n",
    "\n",
    "    n = int(nm[0])\n",
    "\n",
    "    m = int(nm[1])\n",
    "\n",
    "    arr = []\n",
    "\n",
    "    for _ in range(n):\n",
    "        arr.append(list(map(int, input().rstrip().split())))\n",
    "\n",
    "    k = int(input())\n",
    "    arr=sorted(arr,key=lambda x: x[k])\n",
    "    for i in arr:\n",
    "        for j in i:\n",
    "            print(j,end=\" \")\n",
    "        print(\"\")\n"
   ]
  },
  {
   "cell_type": "markdown",
   "id": "1d4c68cf",
   "metadata": {},
   "source": [
    "#### ginortS"
   ]
  },
  {
   "cell_type": "code",
   "execution_count": null,
   "id": "3a8d91f7",
   "metadata": {},
   "outputs": [],
   "source": [
    "word=input()\n",
    "even=[]\n",
    "odd=[]\n",
    "lower=[]\n",
    "upper=[]\n",
    "for i in word:\n",
    "    if i.isalpha():\n",
    "        if i.isupper():\n",
    "            upper+=i\n",
    "        else:\n",
    "            lower+=i\n",
    "    else:\n",
    "        if int(i)%2==0:\n",
    "            even+=i\n",
    "        else:\n",
    "            odd+=i\n",
    "even.sort()\n",
    "odd.sort()\n",
    "lower.sort()\n",
    "upper.sort()\n",
    "print(\"\".join(lower)+\"\".join(upper)+\"\".join(odd)+\"\".join(even))\n",
    "            \n"
   ]
  },
  {
   "cell_type": "markdown",
   "id": "e5de7901",
   "metadata": {},
   "source": [
    "#### Map and Lambda Function"
   ]
  },
  {
   "cell_type": "code",
   "execution_count": null,
   "id": "b779a4b5",
   "metadata": {},
   "outputs": [],
   "source": [
    "cube = lambda x:x**3\n",
    "\n",
    "def fibonacci(n):\n",
    "    if n==0:\n",
    "        return([])\n",
    "    if n==1:\n",
    "        return([0])\n",
    "    lista=[0,1]\n",
    "    for i in range(n-2):\n",
    "        lista.append(sum(lista[-2:]))\n",
    "    return(lista)\n",
    "\n"
   ]
  },
  {
   "cell_type": "markdown",
   "id": "908cfc39",
   "metadata": {},
   "source": [
    "#### Detect Floating Point Number"
   ]
  },
  {
   "cell_type": "code",
   "execution_count": null,
   "id": "f249fc1e",
   "metadata": {},
   "outputs": [],
   "source": [
    "import re\n",
    "from collections import Counter\n",
    "\n",
    "n=int(input())\n",
    "for i in range(n):\n",
    "    k=input()\n",
    "    if (not(Counter(k)[\".\"]==1)) :\n",
    "        print(False)\n",
    "    else:\n",
    "        try:\n",
    "            k=float(k)\n",
    "            print(True)\n",
    "        except ValueError:\n",
    "            print(False)\n",
    "    \n"
   ]
  },
  {
   "cell_type": "markdown",
   "id": "c1941c31",
   "metadata": {},
   "source": [
    "#### Re.split()"
   ]
  },
  {
   "cell_type": "code",
   "execution_count": null,
   "id": "99b75ee0",
   "metadata": {},
   "outputs": [],
   "source": [
    "regex_pattern = r\"[,-.]\"\n",
    "\n"
   ]
  },
  {
   "cell_type": "markdown",
   "id": "b151aef0",
   "metadata": {},
   "source": [
    "#### Group(), Groups() & Groupdict()"
   ]
  },
  {
   "cell_type": "code",
   "execution_count": null,
   "id": "ae661cb1",
   "metadata": {},
   "outputs": [],
   "source": [
    "import re\n",
    "match=re.search(r\"([1-9A-Za-z])\\1+\",input())\n",
    "if match :\n",
    "    print(match.group()[0]) \n",
    "else :\n",
    "    print(-1)\n"
   ]
  },
  {
   "cell_type": "markdown",
   "id": "2c030bbb",
   "metadata": {},
   "source": [
    "#### Re.findall() & Re.finditer()"
   ]
  },
  {
   "cell_type": "code",
   "execution_count": null,
   "id": "7a3d6cb8",
   "metadata": {},
   "outputs": [],
   "source": [
    "import re\n",
    "word=input()\n",
    "match=re.findall(r\"[aeiouAEIOU][aeiouAEIOU]+\",word)\n",
    "for i in match:\n",
    "    if not(re.search(r\"\\w\"+i+\"\\w\",word)):\n",
    "        match.remove(i)\n",
    "    else:\n",
    "        print(i)\n",
    "if match==[]:\n",
    "    print(-1)\n"
   ]
  },
  {
   "cell_type": "markdown",
   "id": "b64fc1c4",
   "metadata": {},
   "source": [
    "#### Re.start() & Re.end()"
   ]
  },
  {
   "cell_type": "code",
   "execution_count": null,
   "id": "36b2b239",
   "metadata": {},
   "outputs": [],
   "source": [
    "import re\n",
    "word,pat=input(),input()\n",
    "k=0\n",
    "while True:\n",
    "    match=re.search(pat,word)\n",
    "    if match:\n",
    "        word=word[match.start()+1:]\n",
    "        print((match.start()+k,match.end()-1+k))\n",
    "        k+=match.start()+1\n",
    "    else:\n",
    "        break\n",
    "if k==0:\n",
    "    print((-1,-1))\n",
    "    \n"
   ]
  },
  {
   "cell_type": "markdown",
   "id": "66c79886",
   "metadata": {},
   "source": [
    "#### Regex Substitution"
   ]
  },
  {
   "cell_type": "code",
   "execution_count": null,
   "id": "7766dfa0",
   "metadata": {},
   "outputs": [],
   "source": [
    "import re\n",
    "n=int(input())\n",
    "for i in range(n):\n",
    "    line=input()\n",
    "    line=(re.sub(r\"(?<=\\s)(&&)(?=\\s)\",r\"and\",line))\n",
    "    line=(re.sub(r\"(?<=\\s)\\|\\|(?=\\s)\",r\"or\",line))\n",
    "    print(line)\n",
    "    \n"
   ]
  },
  {
   "cell_type": "markdown",
   "id": "ce74ec53",
   "metadata": {},
   "source": [
    "#### Validating Roman Numerals"
   ]
  },
  {
   "cell_type": "code",
   "execution_count": null,
   "id": "2dd81412",
   "metadata": {},
   "outputs": [],
   "source": [
    "regex_pattern = r\"(M{0,3})(C[DM]|D?C{0,3})(X[LC]|L?X{0,3})(I[VX]|V?I{0,3})$\"\n",
    "\n"
   ]
  },
  {
   "cell_type": "markdown",
   "id": "a43dbf20",
   "metadata": {},
   "source": [
    "#### Validating phone numbers"
   ]
  },
  {
   "cell_type": "code",
   "execution_count": null,
   "id": "158b71c9",
   "metadata": {},
   "outputs": [],
   "source": [
    "import re\n",
    "\n",
    "def fun(line):\n",
    "    try:\n",
    "        line=int(line)\n",
    "        return(True)\n",
    "    except ValueError:\n",
    "        return(False)\n",
    "    \n",
    "for i in range(int(input())):\n",
    "    line=input()\n",
    "    if re.match(r\"[789]\",line) and len(line)==10 and fun(line):\n",
    "        print(\"YES\")\n",
    "    else:\n",
    "        print(\"NO\")\n"
   ]
  },
  {
   "cell_type": "markdown",
   "id": "455e5b49",
   "metadata": {},
   "source": [
    "#### Validating phone numbers"
   ]
  },
  {
   "cell_type": "code",
   "execution_count": null,
   "id": "d1e8ad47",
   "metadata": {},
   "outputs": [],
   "source": [
    "import re\n",
    "\n",
    "def fun(line):\n",
    "    try:\n",
    "        line=int(line)\n",
    "        return(True)\n",
    "    except ValueError:\n",
    "        return(False)\n",
    "    \n",
    "for i in range(int(input())):\n",
    "    line=input()\n",
    "    if re.match(r\"[789]\",line) and len(line)==10 and fun(line):\n",
    "        print(\"YES\")\n",
    "    else:\n",
    "        print(\"NO\")\n"
   ]
  },
  {
   "cell_type": "markdown",
   "id": "49b324c0",
   "metadata": {},
   "source": [
    "#### Validating and Parsing Email Addresses"
   ]
  },
  {
   "cell_type": "code",
   "execution_count": null,
   "id": "7fcc26be",
   "metadata": {},
   "outputs": [],
   "source": [
    "import re\n",
    "for i in range(int(input())):\n",
    "    line=input()\n",
    "    match=re.search(r\"<[a-zA-Z][\\w\\.\\_\\-]+@[a-zA-Z]+\\.[a-zA-Z]{1,3}>\",line)\n",
    "    if match:\n",
    "        print(line)\n",
    "        \n"
   ]
  },
  {
   "cell_type": "markdown",
   "id": "a72cc3cd",
   "metadata": {},
   "source": [
    "#### Hex Color Code"
   ]
  },
  {
   "cell_type": "code",
   "execution_count": null,
   "id": "27d7dcff",
   "metadata": {},
   "outputs": [],
   "source": [
    "import re\n",
    "k=int(input())\n",
    "i=0\n",
    "line=input()\n",
    "while i<k-1:\n",
    "    if \"{\" in line:\n",
    "        i+=1\n",
    "        line=input()\n",
    "        while not(\"}\" in line):\n",
    "            match=re.findall(r\"#[a-fA-F0-9]{3,6}\",line)\n",
    "            if match:\n",
    "                for j in match:\n",
    "                    print(j)\n",
    "            line=input()\n",
    "            i+=1\n",
    "    else:\n",
    "        line=input()  \n",
    "        i+=1\n",
    "        continue\n"
   ]
  },
  {
   "cell_type": "markdown",
   "id": "92428fa4",
   "metadata": {},
   "source": [
    "#### HTML Parser - Part 1"
   ]
  },
  {
   "cell_type": "code",
   "execution_count": null,
   "id": "85665a83",
   "metadata": {},
   "outputs": [],
   "source": [
    "from html.parser import HTMLParser\n",
    "\n",
    "class MyHTMLParser(HTMLParser):\n",
    "    def handle_starttag(self, tag, attrs):\n",
    "        print(f\"Start : {tag}\")\n",
    "        for name,value in attrs:\n",
    "            print(f\"-> {name} > {value}\")\n",
    "\n",
    "    def handle_startendtag(self, tag, attrs):\n",
    "        print(f\"Empty : {tag}\")\n",
    "        for name,value in attrs:\n",
    "            print(f\"-> {name} > {value}\")\n",
    "\n",
    "    def handle_endtag(self, tag):\n",
    "        print(f\"End   : {tag}\")\n",
    "\n",
    "\n",
    "parser = MyHTMLParser()\n",
    "for _ in range(int(input())):\n",
    "    parser.feed(input())\n",
    "parser.close()\n"
   ]
  },
  {
   "cell_type": "markdown",
   "id": "766681b0",
   "metadata": {},
   "source": [
    "#### Detect Floating Point Number"
   ]
  },
  {
   "cell_type": "code",
   "execution_count": null,
   "id": "854d18f8",
   "metadata": {},
   "outputs": [],
   "source": [
    "import re\n",
    "from collections import Counter\n",
    "\n",
    "n=int(input())\n",
    "for i in range(n):\n",
    "    k=input()\n",
    "    if (not(Counter(k)[\".\"]==1)) :\n",
    "        print(False)\n",
    "    else:\n",
    "        try:\n",
    "            k=float(k)\n",
    "            print(True)\n",
    "        except ValueError:\n",
    "            print(False)\n",
    "    \n",
    "\n",
    "            \n"
   ]
  },
  {
   "cell_type": "markdown",
   "id": "ed79624e",
   "metadata": {},
   "source": [
    "#### HTML Parser - Part 2"
   ]
  },
  {
   "cell_type": "code",
   "execution_count": null,
   "id": "d314deb6",
   "metadata": {},
   "outputs": [],
   "source": [
    "from html.parser import HTMLParser\n",
    "\n",
    "class MyHTMLParser(HTMLParser):\n",
    "    def handle_comment(self, data):\n",
    "        if \"\\n\" in data:\n",
    "            print(\">>> Multi-line Comment\",data,sep=\"\\n\")\n",
    "        else:\n",
    "            print (\">>> Single-line Comment\",data,sep=\"\\n\")\n",
    "    def handle_data(self, data):\n",
    "        if data!=\"\\n\":\n",
    "            print (\">>> Data\", data,sep=\"\\n\")\n",
    "  \n",
    "  \n",
    "  \n",
    "  \n",
    "  \n",
    "  \n",
    "  \n",
    "  \n",
    "html = \"\"       \n",
    "for i in range(int(input())):\n",
    "    html += input().rstrip()\n",
    "    html += '\\n'\n",
    "    \n",
    "parser = MyHTMLParser()\n",
    "parser.feed(html)\n",
    "parser.close()\n"
   ]
  },
  {
   "cell_type": "markdown",
   "id": "9dcafaba",
   "metadata": {},
   "source": [
    "#### Detect HTML Tags, Attributes and Attribute Values"
   ]
  },
  {
   "cell_type": "code",
   "execution_count": null,
   "id": "9284c657",
   "metadata": {},
   "outputs": [],
   "source": [
    "from html.parser import HTMLParser\n",
    "class Parser(HTMLParser):\n",
    "    def handle_starttag(self, tag, attrs):\n",
    "        print(tag)\n",
    "        for ele in attrs:\n",
    "            print(\"->\", ele[0], \">\", ele[1])\n",
    "\n",
    "\n",
    "html=\"\"\n",
    "for i in range(int(input())):\n",
    "    html+=input().strip()+\"\\n\"\n",
    "parser=Parser()\n",
    "parser.feed(html)\n",
    "parser.close\n"
   ]
  },
  {
   "cell_type": "markdown",
   "id": "fc82a25b",
   "metadata": {},
   "source": [
    "#### Validating UID "
   ]
  },
  {
   "cell_type": "code",
   "execution_count": null,
   "id": "b21ffb23",
   "metadata": {},
   "outputs": [],
   "source": [
    "import re\n",
    "from collections import Counter\n",
    "\n",
    "for i in range(int(input())):\n",
    "    line=input().strip()\n",
    "    if not re.search(r\"[a-zA-Z0-9]{10}\",line) or len(Counter(line))!=10:\n",
    "        print(\"Invalid\")\n",
    "    else:\n",
    "        dig=0\n",
    "        up=0\n",
    "        low=0\n",
    "        for j in line:\n",
    "            if j.isupper():\n",
    "                up+=1\n",
    "            elif j.isdigit():\n",
    "                dig+=1\n",
    "        if up>=2 and dig>=3:\n",
    "            print(\"Valid\")\n",
    "        else:\n",
    "            print(\"Invalid\")\n",
    "            \n"
   ]
  },
  {
   "cell_type": "markdown",
   "id": "21fb2704",
   "metadata": {},
   "source": [
    "#### Validating Credit Card Numbers"
   ]
  },
  {
   "cell_type": "code",
   "execution_count": null,
   "id": "3e7ebc41",
   "metadata": {},
   "outputs": [],
   "source": [
    "import re\n",
    "\n",
    "for i in range(int(input())):\n",
    "    line=input()\n",
    "    if (re.fullmatch(r\"[456]\\d{15}|[456]\\d{3}(\\-\\d{4}){3}\", line) and \\\n",
    "         not re.search(r\"([0-9])(\\1){3}\", line.replace(\"-\",\"\"))):\n",
    "        print(\"Valid\")\n",
    "    else:\n",
    "        print(\"Invalid\")\n",
    "        \n",
    "        \n",
    "        \n",
    "        \n",
    "        \n"
   ]
  },
  {
   "cell_type": "markdown",
   "id": "8e7a744e",
   "metadata": {},
   "source": [
    "#### Validating Postal Codes"
   ]
  },
  {
   "cell_type": "code",
   "execution_count": null,
   "id": "d011a8d7",
   "metadata": {},
   "outputs": [],
   "source": [
    "regex_integer_in_range = r\"^\\d{6}$\"\t# Do not delete 'r'.\n",
    "regex_alternating_repetitive_digit_pair = r\"(\\d)(?=\\d\\1)\" # Do not delete 'r'.\n",
    "\n",
    "\n",
    "\n",
    "\n"
   ]
  },
  {
   "cell_type": "markdown",
   "id": "fd5bac86",
   "metadata": {},
   "source": [
    "#### Matrix Script"
   ]
  },
  {
   "cell_type": "code",
   "execution_count": null,
   "id": "7c79a20b",
   "metadata": {},
   "outputs": [],
   "source": [
    "#!/bin/python3\n",
    "\n",
    "import math\n",
    "import os\n",
    "import random\n",
    "import re\n",
    "import sys\n",
    "\n",
    "\n",
    "\n",
    "\n",
    "first_multiple_input = input().rstrip().split()\n",
    "\n",
    "n = int(first_multiple_input[0])\n",
    "\n",
    "m = int(first_multiple_input[1])\n",
    "\n",
    "matrix=[]\n",
    "line=[]\n",
    "for i in range(n):\n",
    "    matrix+=[list(input())]\n",
    "\n",
    "for i in range(m):\n",
    "    for j in range(n):\n",
    "        line+=matrix[j][i]\n",
    "line=\"\".join(line)\n",
    "print(re.sub(r\"(?<=\\w)\\W+(?=\\w)\",\" \",line))\n"
   ]
  },
  {
   "cell_type": "markdown",
   "id": "666a2712",
   "metadata": {},
   "source": [
    "#### XML 1 - Find the Score"
   ]
  },
  {
   "cell_type": "code",
   "execution_count": null,
   "id": "430fdfb2",
   "metadata": {},
   "outputs": [],
   "source": [
    "\n",
    "\n",
    "\n",
    "def get_attr_number(node):\n",
    "    return sum([len(i.keys()) for i in  node.iter() ])\n",
    "\n",
    "\n"
   ]
  },
  {
   "cell_type": "markdown",
   "id": "9cf3e478",
   "metadata": {},
   "source": [
    "#### XML2 - Find the Maximum Depth"
   ]
  },
  {
   "cell_type": "code",
   "execution_count": null,
   "id": "aab75173",
   "metadata": {},
   "outputs": [],
   "source": [
    "\n",
    "\n",
    "maxdepth = 0\n",
    "def depth(elem, level):\n",
    "    global maxdepth\n",
    "    if (level==maxdepth):\n",
    "        maxdepth+=1\n",
    "    for i in elem:\n",
    "        depth(i,level+1) \n",
    "\n"
   ]
  },
  {
   "cell_type": "markdown",
   "id": "5a281ef1",
   "metadata": {},
   "source": [
    "#### Standardize Mobile Number Using Decorators"
   ]
  },
  {
   "cell_type": "code",
   "execution_count": null,
   "id": "b6341e93",
   "metadata": {},
   "outputs": [],
   "source": [
    "def wrapper(f):\n",
    "    def fun(l):\n",
    "        for i in range(len(l)):\n",
    "            l[i]=(\"+91 \"+l[i][-10:-5]+\" \"+l[i][-5:])\n",
    "        \n",
    "        return(f(l))\n",
    "    return fun\n",
    "\n"
   ]
  },
  {
   "cell_type": "markdown",
   "id": "6262395e",
   "metadata": {},
   "source": [
    "#### Decorators 2 - Name Directory"
   ]
  },
  {
   "cell_type": "code",
   "execution_count": null,
   "id": "11b8e62c",
   "metadata": {},
   "outputs": [],
   "source": [
    "\n",
    "\n",
    "def person_lister(f):\n",
    "    def inner(people):\n",
    "        people=sorted(people,key=lambda i:int(i[2]))\n",
    "        return([f(k) for k in people])\n",
    "            \n",
    "    return inner\n",
    "\n"
   ]
  },
  {
   "cell_type": "markdown",
   "id": "ad224b30",
   "metadata": {},
   "source": [
    "#### Arrays"
   ]
  },
  {
   "cell_type": "code",
   "execution_count": null,
   "id": "6e90b003",
   "metadata": {},
   "outputs": [],
   "source": [
    "\n",
    "\n",
    "def arrays(arr):\n",
    "    a=(numpy.array(arr,float))\n",
    "    return(a[::-1])\n",
    "    \n",
    "    \n",
    "\n"
   ]
  },
  {
   "cell_type": "markdown",
   "id": "961c8d42",
   "metadata": {},
   "source": [
    "#### Arrays"
   ]
  },
  {
   "cell_type": "code",
   "execution_count": null,
   "id": "719282a0",
   "metadata": {},
   "outputs": [],
   "source": [
    "\n",
    "\n",
    "def arrays(arr):\n",
    "    a=(numpy.array(arr,float))\n",
    "    return(a[::-1])\n",
    "    \n",
    "    \n",
    "\n"
   ]
  },
  {
   "cell_type": "markdown",
   "id": "1f51f6db",
   "metadata": {},
   "source": [
    "#### Shape and Reshape"
   ]
  },
  {
   "cell_type": "code",
   "execution_count": null,
   "id": "2adaf8e6",
   "metadata": {},
   "outputs": [],
   "source": [
    "import numpy\n",
    "arr=numpy.array(list(map(int,input().split())))\n",
    "print( numpy.reshape(arr,(3,3)))\n"
   ]
  },
  {
   "cell_type": "markdown",
   "id": "7327b4a3",
   "metadata": {},
   "source": [
    "#### Transpose and Flatten"
   ]
  },
  {
   "cell_type": "code",
   "execution_count": null,
   "id": "4114fa9f",
   "metadata": {},
   "outputs": [],
   "source": [
    "import numpy\n",
    "n=int(input()[0])\n",
    "mat=[]\n",
    "for i in range(n):\n",
    "    mat+=[list(map(int,input().split()))]\n",
    "mat=numpy.array(mat)\n",
    "print(numpy.transpose(mat))\n",
    "print(mat.flatten())\n"
   ]
  },
  {
   "cell_type": "markdown",
   "id": "c944730e",
   "metadata": {},
   "source": [
    "#### Concatenate"
   ]
  },
  {
   "cell_type": "code",
   "execution_count": null,
   "id": "58b98b7f",
   "metadata": {},
   "outputs": [],
   "source": [
    "import numpy\n",
    "line=list(map(int,input().split()))\n",
    "mat=[]\n",
    "for i in range(line[0]+line[1]):\n",
    "    mat.append(list(map(int,input().split())))\n",
    "mat=numpy.array(mat)\n",
    "print(mat)\n",
    "\n"
   ]
  },
  {
   "cell_type": "markdown",
   "id": "b3214944",
   "metadata": {},
   "source": [
    "#### Zeros and Ones"
   ]
  },
  {
   "cell_type": "code",
   "execution_count": null,
   "id": "3f980b71",
   "metadata": {},
   "outputs": [],
   "source": [
    "import numpy\n",
    "dim=list(map(int,input().split()))\n",
    "dim=tuple(dim)\n",
    "print(numpy.zeros(dim,dtype=numpy.int))\n",
    "print(numpy.ones(dim,dtype=numpy.int))\n"
   ]
  },
  {
   "cell_type": "markdown",
   "id": "63d6a72e",
   "metadata": {},
   "source": [
    "#### Eye and Identity"
   ]
  },
  {
   "cell_type": "code",
   "execution_count": null,
   "id": "f52cddb7",
   "metadata": {},
   "outputs": [],
   "source": [
    "import numpy\n",
    "numpy.set_printoptions(legacy='1.13')\n",
    "dim=list(map(int,input().split()))\n",
    "print(numpy.eye(dim[0],dim[1],0))\n"
   ]
  },
  {
   "cell_type": "markdown",
   "id": "a61e2277",
   "metadata": {},
   "source": [
    "#### Array Mathematics"
   ]
  },
  {
   "cell_type": "code",
   "execution_count": null,
   "id": "ace7bf34",
   "metadata": {},
   "outputs": [],
   "source": [
    "import numpy\n",
    "\n",
    "a=[]\n",
    "b=[]\n",
    "dim=list(map(int,input().split()))\n",
    "for i in range(dim[0]):\n",
    "    a.append(list(map(int,input().split())))\n",
    "\n",
    "for i in range(dim[0]):\n",
    "    b.append(list(map(int,input().split())))\n",
    "a=numpy.array(a)\n",
    "b=numpy.array(b)\n",
    "print(a+b,a-b,a*b,a//b,a%b,a**b,sep=\"\\n\")\n"
   ]
  },
  {
   "cell_type": "markdown",
   "id": "d64f1dc9",
   "metadata": {},
   "source": [
    "#### Floor, Ceil and Rint"
   ]
  },
  {
   "cell_type": "code",
   "execution_count": null,
   "id": "eae82b3c",
   "metadata": {},
   "outputs": [],
   "source": [
    "import numpy\n",
    "numpy.set_printoptions(legacy='1.13')\n",
    "\n",
    "a=numpy.array(list(map(float,input().split())))\n",
    "print (numpy.floor(a),numpy.ceil(a),numpy.rint(a),sep=\"\\n\")\n"
   ]
  },
  {
   "cell_type": "markdown",
   "id": "bf82dd14",
   "metadata": {},
   "source": [
    "#### Sum and Prod"
   ]
  },
  {
   "cell_type": "code",
   "execution_count": null,
   "id": "de8cb4a6",
   "metadata": {},
   "outputs": [],
   "source": [
    "import numpy\n",
    "n=list(map(int,input().split()))[0]\n",
    "k=[]\n",
    "for i in range(n):\n",
    "    k.append(list(map(int,input().split())))\n",
    "k=numpy.array(k)\n",
    "print(numpy.prod(numpy.sum(k,axis=0)))\n"
   ]
  },
  {
   "cell_type": "markdown",
   "id": "c55f6e9e",
   "metadata": {},
   "source": [
    "#### Min and Max"
   ]
  },
  {
   "cell_type": "code",
   "execution_count": null,
   "id": "faf5495c",
   "metadata": {},
   "outputs": [],
   "source": [
    "import numpy as np\n",
    "n=list(map(int,input().split()))[0]\n",
    "k=[]\n",
    "for i in range(n):\n",
    "    k.append(list(map(int,input().split())))\n",
    "k=np.array(k)\n",
    "print(np.max(np.min(k,axis=1)))\n"
   ]
  },
  {
   "cell_type": "markdown",
   "id": "1626262c",
   "metadata": {},
   "source": [
    "#### Mean, Var, and Std"
   ]
  },
  {
   "cell_type": "code",
   "execution_count": null,
   "id": "e4268ee2",
   "metadata": {},
   "outputs": [],
   "source": [
    "import numpy as np\n",
    "k=[]\n",
    "for i in range(list(map(int,input().split()))[0]):\n",
    "    k.append(list(map(int,input().split())))\n",
    "k=np.array(k)\n",
    "print(np.mean(k,axis=1),np.var(k,axis=0),round(np.std(k),11),sep=\"\\n\")\n"
   ]
  },
  {
   "cell_type": "markdown",
   "id": "458e18b9",
   "metadata": {},
   "source": [
    "#### Dot and Cross"
   ]
  },
  {
   "cell_type": "code",
   "execution_count": null,
   "id": "bedb8173",
   "metadata": {},
   "outputs": [],
   "source": [
    "import numpy as np\n",
    "\n",
    "n=int(input())\n",
    "a=[]\n",
    "b=[]\n",
    "for i in range(n):\n",
    "     a.append(list(map(int,input().split())))\n",
    "for i in range(n):\n",
    "     b.append(list(map(int,input().split())))\n",
    "a=np.array(a)\n",
    "b=np.array(b)\n",
    "print(np.dot(a,b))\n"
   ]
  },
  {
   "cell_type": "markdown",
   "id": "35f47e8f",
   "metadata": {},
   "source": [
    "#### Inner and Outer"
   ]
  },
  {
   "cell_type": "code",
   "execution_count": null,
   "id": "3eff9fa7",
   "metadata": {},
   "outputs": [],
   "source": [
    "import numpy as np\n",
    "a=list(map(int,input().split()))\n",
    "b=list(map(int,input().split()))\n",
    "a=np.array(a)\n",
    "b=np.array(b)\n",
    "print(np.inner(a,b),np.outer(a,b),sep=\"\\n\")\n"
   ]
  },
  {
   "cell_type": "markdown",
   "id": "a8a5d74a",
   "metadata": {},
   "source": [
    "#### Polynomials"
   ]
  },
  {
   "cell_type": "code",
   "execution_count": null,
   "id": "a70909ce",
   "metadata": {},
   "outputs": [],
   "source": [
    "import numpy as np\n",
    "a=list(map(float,input().split()))\n",
    "print(np.polyval(a,float(input())))\n"
   ]
  },
  {
   "cell_type": "markdown",
   "id": "e14d9b47",
   "metadata": {},
   "source": [
    "#### Linear Algebra"
   ]
  },
  {
   "cell_type": "code",
   "execution_count": null,
   "id": "3278090a",
   "metadata": {},
   "outputs": [],
   "source": [
    "import numpy\n",
    "k=[]\n",
    "for i in range(int(input())):\n",
    "    k.append(list(map(float,input().split())))\n",
    "print(round(numpy.linalg.det(k),2))\n"
   ]
  },
  {
   "cell_type": "markdown",
   "id": "f1e83422",
   "metadata": {},
   "source": [
    "#### Birthday Cake Candles"
   ]
  },
  {
   "cell_type": "code",
   "execution_count": null,
   "id": "6c00d5f7",
   "metadata": {},
   "outputs": [],
   "source": [
    "#!/bin/python3\n",
    "\n",
    "import math\n",
    "import os\n",
    "import random\n",
    "import re\n",
    "import sys\n",
    "from collections import Counter\n",
    "\n",
    "#\n",
    "# Complete the 'birthdayCakeCandles' function below.\n",
    "#\n",
    "# The function is expected to return an INTEGER.\n",
    "# The function accepts INTEGER_ARRAY candles as parameter.\n",
    "#\n",
    "\n",
    "def birthdayCakeCandles(candles):\n",
    "    return(Counter(candles)[max(candles)])\n",
    "if __name__ == '__main__':\n",
    "    fptr = open(os.environ['OUTPUT_PATH'], 'w')\n",
    "\n",
    "    candles_count = int(input().strip())\n",
    "\n",
    "    candles = list(map(int, input().rstrip().split()))\n",
    "\n",
    "    result = birthdayCakeCandles(candles)\n",
    "\n",
    "    fptr.write(str(result) + '\\n')\n",
    "\n",
    "    fptr.close()\n"
   ]
  },
  {
   "cell_type": "markdown",
   "id": "d2145b21",
   "metadata": {},
   "source": [
    "#### Number Line Jumps"
   ]
  },
  {
   "cell_type": "code",
   "execution_count": null,
   "id": "47d8aa65",
   "metadata": {},
   "outputs": [],
   "source": [
    "#!/bin/python3\n",
    "\n",
    "import math\n",
    "import os\n",
    "import random\n",
    "import re\n",
    "import sys\n",
    "\n",
    "#\n",
    "# Complete the 'kangaroo' function below.\n",
    "#\n",
    "# The function is expected to return a STRING.\n",
    "# The function accepts following parameters:\n",
    "#  1. INTEGER x1\n",
    "#  2. INTEGER v1\n",
    "#  3. INTEGER x2\n",
    "#  4. INTEGER v2\n",
    "#\n",
    "\n",
    "def kangaroo(x1, v1, x2, v2):\n",
    "    if v1==v2:\n",
    "        if x1==x2:\n",
    "            return(\"YES\")\n",
    "        else:\n",
    "            return(\"NO\")\n",
    "    k=(x1-x2)/(v2-v1)\n",
    "    if k.is_integer() and k>0 :\n",
    "        return(\"YES\")\n",
    "    else:\n",
    "        return(\"NO\")\n",
    "\n",
    "if __name__ == '__main__':\n",
    "    fptr = open(os.environ['OUTPUT_PATH'], 'w')\n",
    "\n",
    "    first_multiple_input = input().rstrip().split()\n",
    "\n",
    "    x1 = int(first_multiple_input[0])\n",
    "\n",
    "    v1 = int(first_multiple_input[1])\n",
    "\n",
    "    x2 = int(first_multiple_input[2])\n",
    "\n",
    "    v2 = int(first_multiple_input[3])\n",
    "\n",
    "    result = kangaroo(x1, v1, x2, v2)\n",
    "\n",
    "    fptr.write(result + '\\n')\n",
    "\n",
    "    fptr.close()\n"
   ]
  },
  {
   "cell_type": "markdown",
   "id": "e771f039",
   "metadata": {},
   "source": [
    "#### Viral Advertising"
   ]
  },
  {
   "cell_type": "code",
   "execution_count": null,
   "id": "b59e7369",
   "metadata": {},
   "outputs": [],
   "source": [
    "#!/bin/python3\n",
    "\n",
    "import math\n",
    "import os\n",
    "import random\n",
    "import re\n",
    "import sys\n",
    "\n",
    "#\n",
    "# Complete the 'viralAdvertising' function below.\n",
    "#\n",
    "# The function is expected to return an INTEGER.\n",
    "# The function accepts INTEGER n as parameter.\n",
    "#\n",
    "\n",
    "def viralAdvertising(n):\n",
    "    k=[5,2]\n",
    "    for i in range(n-1):\n",
    "        k[0]=math.floor(k[0]/2)*3\n",
    "        k[1]=math.floor(k[0]/2)+k[1]\n",
    "    return(k[1])\n",
    "\n",
    "if __name__ == '__main__':\n",
    "    fptr = open(os.environ['OUTPUT_PATH'], 'w')\n",
    "\n",
    "    n = int(input().strip())\n",
    "\n",
    "    result = viralAdvertising(n)\n",
    "\n",
    "    fptr.write(str(result) + '\\n')\n",
    "\n",
    "    fptr.close()\n"
   ]
  },
  {
   "cell_type": "markdown",
   "id": "f6770038",
   "metadata": {},
   "source": [
    "#### Viral Advertising"
   ]
  },
  {
   "cell_type": "code",
   "execution_count": null,
   "id": "7a849ac3",
   "metadata": {},
   "outputs": [],
   "source": [
    "#!/bin/python3\n",
    "\n",
    "import math\n",
    "import os\n",
    "import random\n",
    "import re\n",
    "import sys\n",
    "\n",
    "#\n",
    "# Complete the 'viralAdvertising' function below.\n",
    "#\n",
    "# The function is expected to return an INTEGER.\n",
    "# The function accepts INTEGER n as parameter.\n",
    "#\n",
    "\n",
    "def viralAdvertising(n):\n",
    "    k=[5,2]\n",
    "    for i in range(n-1):\n",
    "        k[0]=math.floor(k[0]/2)*3\n",
    "        k[1]=math.floor(k[0]/2)+k[1]\n",
    "    return(k[1])\n",
    "\n",
    "if __name__ == '__main__':\n",
    "    fptr = open(os.environ['OUTPUT_PATH'], 'w')\n",
    "\n",
    "    n = int(input().strip())\n",
    "\n",
    "    result = viralAdvertising(n)\n",
    "\n",
    "    fptr.write(str(result) + '\\n')\n",
    "\n",
    "    fptr.close()\n"
   ]
  },
  {
   "cell_type": "markdown",
   "id": "76da14cf",
   "metadata": {},
   "source": [
    "#### Viral Advertising"
   ]
  },
  {
   "cell_type": "code",
   "execution_count": null,
   "id": "dcb1b346",
   "metadata": {},
   "outputs": [],
   "source": [
    "#!/bin/python3\n",
    "\n",
    "import math\n",
    "import os\n",
    "import random\n",
    "import re\n",
    "import sys\n",
    "\n",
    "#\n",
    "# Complete the 'viralAdvertising' function below.\n",
    "#\n",
    "# The function is expected to return an INTEGER.\n",
    "# The function accepts INTEGER n as parameter.\n",
    "#\n",
    "\n",
    "def viralAdvertising(n):\n",
    "    k=[5,2]\n",
    "    for i in range(n-1):\n",
    "        k[0]=math.floor(k[0]/2)*3\n",
    "        k[1]=math.floor(k[0]/2)+k[1]\n",
    "    return(k[1])\n",
    "\n",
    "if __name__ == '__main__':\n",
    "    fptr = open(os.environ['OUTPUT_PATH'], 'w')\n",
    "\n",
    "    n = int(input().strip())\n",
    "\n",
    "    result = viralAdvertising(n)\n",
    "\n",
    "    fptr.write(str(result) + '\\n')\n",
    "\n",
    "    fptr.close()\n"
   ]
  },
  {
   "cell_type": "markdown",
   "id": "accd6461",
   "metadata": {},
   "source": [
    "#### Viral Advertising"
   ]
  },
  {
   "cell_type": "code",
   "execution_count": null,
   "id": "5fd9a971",
   "metadata": {},
   "outputs": [],
   "source": [
    "#!/bin/python3\n",
    "\n",
    "import math\n",
    "import os\n",
    "import random\n",
    "import re\n",
    "import sys\n",
    "\n",
    "#\n",
    "# Complete the 'viralAdvertising' function below.\n",
    "#\n",
    "# The function is expected to return an INTEGER.\n",
    "# The function accepts INTEGER n as parameter.\n",
    "#\n",
    "\n",
    "def viralAdvertising(n):\n",
    "    k=[5,2]\n",
    "    for i in range(n-1):\n",
    "        k[0]=math.floor(k[0]/2)*3\n",
    "        k[1]=math.floor(k[0]/2)+k[1]\n",
    "    return(k[1])\n",
    "\n",
    "if __name__ == '__main__':\n",
    "    fptr = open(os.environ['OUTPUT_PATH'], 'w')\n",
    "\n",
    "    n = int(input().strip())\n",
    "\n",
    "    result = viralAdvertising(n)\n",
    "\n",
    "    fptr.write(str(result) + '\\n')\n",
    "\n",
    "    fptr.close()\n"
   ]
  },
  {
   "cell_type": "markdown",
   "id": "54ae8548",
   "metadata": {},
   "source": [
    "#### Viral Advertising"
   ]
  },
  {
   "cell_type": "code",
   "execution_count": null,
   "id": "2d30d658",
   "metadata": {},
   "outputs": [],
   "source": [
    "#!/bin/python3\n",
    "\n",
    "import math\n",
    "import os\n",
    "import random\n",
    "import re\n",
    "import sys\n",
    "\n",
    "#\n",
    "# Complete the 'viralAdvertising' function below.\n",
    "#\n",
    "# The function is expected to return an INTEGER.\n",
    "# The function accepts INTEGER n as parameter.\n",
    "#\n",
    "\n",
    "def viralAdvertising(n):\n",
    "    k=[5,2]\n",
    "    for i in range(n-1):\n",
    "        k[0]=math.floor(k[0]/2)*3\n",
    "        k[1]=math.floor(k[0]/2)+k[1]\n",
    "    return(k[1])\n",
    "\n",
    "if __name__ == '__main__':\n",
    "    fptr = open(os.environ['OUTPUT_PATH'], 'w')\n",
    "\n",
    "    n = int(input().strip())\n",
    "\n",
    "    result = viralAdvertising(n)\n",
    "\n",
    "    fptr.write(str(result) + '\\n')\n",
    "\n",
    "    fptr.close()\n"
   ]
  },
  {
   "cell_type": "markdown",
   "id": "509cbe28",
   "metadata": {},
   "source": [
    "#### Recursive Digit Sum"
   ]
  },
  {
   "cell_type": "code",
   "execution_count": null,
   "id": "19dc853b",
   "metadata": {},
   "outputs": [],
   "source": [
    "#!/bin/python3\n",
    "\n",
    "import math\n",
    "import os\n",
    "import random\n",
    "import re\n",
    "import sys\n",
    "\n",
    "#\n",
    "# Complete the 'superDigit' function below.\n",
    "#\n",
    "# The function is expected to return an INTEGER.\n",
    "# The function accepts following parameters:\n",
    "#  1. STRING n\n",
    "#  2. INTEGER k\n",
    "#\n",
    "\n",
    "def superDigit(n, k):\n",
    "    result=(k*n)%9\n",
    "    if result==0:\n",
    "        return(9)\n",
    "    else:\n",
    "        return(result)\n",
    "\n",
    "if __name__ == '__main__':\n",
    "    fptr = open(os.environ['OUTPUT_PATH'], 'w')\n",
    "\n",
    "    first_multiple_input = input().rstrip().split()\n",
    "\n",
    "    n = int(first_multiple_input[0])\n",
    "\n",
    "    k = int(first_multiple_input[1])\n",
    "\n",
    "    result = superDigit(n, k)\n",
    "\n",
    "    fptr.write(str(result) + '\\n')\n",
    "\n",
    "    fptr.close()\n"
   ]
  },
  {
   "cell_type": "markdown",
   "id": "45a95e19",
   "metadata": {},
   "source": [
    "#### Insertion Sort - Part 1"
   ]
  },
  {
   "cell_type": "code",
   "execution_count": null,
   "id": "94a41956",
   "metadata": {},
   "outputs": [],
   "source": [
    "#!/bin/python3\n",
    "\n",
    "import math\n",
    "import os\n",
    "import random\n",
    "import re\n",
    "import sys\n",
    "\n",
    "#\n",
    "# Complete the 'insertionSort1' function below.\n",
    "#\n",
    "# The function accepts following parameters:\n",
    "#  1. INTEGER n\n",
    "#  2. INTEGER_ARRAY arr\n",
    "#\n",
    "\n",
    "def insertionSort1(n, arr):\n",
    "    for i in range(n-1,0,-1):\n",
    "        if arr[i]<arr[i-1]:\n",
    "            for j in arr:\n",
    "                if j==arr[i]:\n",
    "                    print(arr[i-1],end=\" \")\n",
    "                else:\n",
    "                    print(j,end=\" \")\n",
    "            print(\"\")\n",
    "            k=arr[i]\n",
    "            arr[i]=arr[i-1]\n",
    "            arr[i-1]=k\n",
    "        else:\n",
    "            break\n",
    "    for j in arr:\n",
    "        print(j,end=\" \")\n",
    "    return()\n",
    "if __name__ == '__main__':\n",
    "    n = int(input().strip())\n",
    "\n",
    "    arr = list(map(int, input().rstrip().split()))\n",
    "\n",
    "    insertionSort1(n, arr)\n"
   ]
  },
  {
   "cell_type": "markdown",
   "id": "1c9b6d15",
   "metadata": {},
   "source": [
    "#### Insertion Sort - Part 2"
   ]
  },
  {
   "cell_type": "code",
   "execution_count": null,
   "id": "128b1404",
   "metadata": {},
   "outputs": [],
   "source": [
    "#!/bin/python3\n",
    "\n",
    "import math\n",
    "import os\n",
    "import random\n",
    "import re\n",
    "import sys\n",
    "\n",
    "#\n",
    "# Complete the 'insertionSort2' function below.\n",
    "#\n",
    "# The function accepts following parameters:\n",
    "#  1. INTEGER n\n",
    "#  2. INTEGER_ARRAY arr\n",
    "#\n",
    "\n",
    "def insertionSort1(n,arr):\n",
    "    for i in range(n-1,0,-1):\n",
    "        if arr[i]<arr[i-1]:\n",
    "            k=arr[i]\n",
    "            arr[i]=arr[i-1]\n",
    "            arr[i-1]=k\n",
    "        else:\n",
    "            break\n",
    "    return(arr)\n",
    "\n",
    "\n",
    "\n",
    "def insertionSort2(n, arr):\n",
    "    for j in range(1,n):\n",
    "        arr=insertionSort1(j+1,arr[0:j+1])+arr[j+1:]\n",
    "        for i in arr:\n",
    "            print(i,end=\" \")\n",
    "        print(\"\")\n",
    "        \n",
    "if __name__ == '__main__':\n",
    "    n = int(input().strip())\n",
    "\n",
    "    arr = list(map(int, input().rstrip().split()))\n",
    "\n",
    "    insertionSort2(n, arr)\n"
   ]
  }
 ],
 "metadata": {
  "kernelspec": {
   "display_name": "Python 3 (ipykernel)",
   "language": "python",
   "name": "python3"
  },
  "language_info": {
   "codemirror_mode": {
    "name": "ipython",
    "version": 3
   },
   "file_extension": ".py",
   "mimetype": "text/x-python",
   "name": "python",
   "nbconvert_exporter": "python",
   "pygments_lexer": "ipython3",
   "version": "3.9.12"
  }
 },
 "nbformat": 4,
 "nbformat_minor": 5
}
